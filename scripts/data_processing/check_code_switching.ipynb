{
 "cells": [
  {
   "cell_type": "markdown",
   "metadata": {},
   "source": [
    "# Check code-switching\n",
    "In which we check to see if our data labelled as Catalan/Spanish contains any code-switching. A legitimate concern!"
   ]
  },
  {
   "cell_type": "code",
   "execution_count": 4,
   "metadata": {
    "collapsed": true
   },
   "outputs": [],
   "source": [
    "import pandas as pd\n",
    "import json\n",
    "import codecs"
   ]
  },
  {
   "cell_type": "markdown",
   "metadata": {},
   "source": [
    "## Load data\n",
    "We'll use the data from the independence referendum dataset (IT) rather than the controls (XT)."
   ]
  },
  {
   "cell_type": "code",
   "execution_count": 13,
   "metadata": {
    "collapsed": false
   },
   "outputs": [],
   "source": [
    "ref_tweets = [json.loads(l.strip()) for l in codecs.open('../../data/tweets/archive_Jan-01-17_Oct-31-17_ref_hashtags_filtered.json', 'r', encoding='utf-8')]\n",
    "ref_tweet_data = pd.concat([pd.Series(t) for t in ref_tweets], axis=1).transpose()\n",
    "lang_id_data = pd.read_csv('../../data/tweets/archive_Jan-01-17_Oct-31-17_ref_hashtags_filtered_langid.csv', \n",
    "                           index_col=False, encoding='utf-8')\n",
    "# join on tweet ID\n",
    "ref_tweet_data = pd.merge(ref_tweet_data, lang_id_data, on='id', how='inner')"
   ]
  },
  {
   "cell_type": "code",
   "execution_count": 14,
   "metadata": {
    "collapsed": false
   },
   "outputs": [
    {
     "data": {
      "text/html": [
       "<div>\n",
       "<style>\n",
       "    .dataframe thead tr:only-child th {\n",
       "        text-align: right;\n",
       "    }\n",
       "\n",
       "    .dataframe thead th {\n",
       "        text-align: left;\n",
       "    }\n",
       "\n",
       "    .dataframe tbody tr th {\n",
       "        vertical-align: top;\n",
       "    }\n",
       "</style>\n",
       "<table border=\"1\" class=\"dataframe\">\n",
       "  <thead>\n",
       "    <tr style=\"text-align: right;\">\n",
       "      <th></th>\n",
       "      <th>date</th>\n",
       "      <th>id</th>\n",
       "      <th>location.country</th>\n",
       "      <th>location.name</th>\n",
       "      <th>text</th>\n",
       "      <th>user</th>\n",
       "      <th>lang</th>\n",
       "      <th>conf</th>\n",
       "    </tr>\n",
       "  </thead>\n",
       "  <tbody>\n",
       "    <tr>\n",
       "      <th>0</th>\n",
       "      <td>Sat Apr 08 16:27:26 +0000 2017</td>\n",
       "      <td>850746920700174337</td>\n",
       "      <td></td>\n",
       "      <td></td>\n",
       "      <td>Renunciar al creixement  econòmic per un fi po...</td>\n",
       "      <td>ramonjmagi</td>\n",
       "      <td>ca</td>\n",
       "      <td>0.995823</td>\n",
       "    </tr>\n",
       "    <tr>\n",
       "      <th>1</th>\n",
       "      <td>Sun Apr 09 00:41:55 +0000 2017</td>\n",
       "      <td>850871361476202496</td>\n",
       "      <td></td>\n",
       "      <td></td>\n",
       "      <td>very few people know what I've been through......</td>\n",
       "      <td>TavarezRenaldy</td>\n",
       "      <td>en</td>\n",
       "      <td>1.000000</td>\n",
       "    </tr>\n",
       "    <tr>\n",
       "      <th>2</th>\n",
       "      <td>Sun Apr 09 05:50:36 +0000 2017</td>\n",
       "      <td>850949044184772608</td>\n",
       "      <td></td>\n",
       "      <td></td>\n",
       "      <td>AŞK bedenin bedeni sevmesi degil RUHUN RUHU SE...</td>\n",
       "      <td>cemilesakin88</td>\n",
       "      <td>tr</td>\n",
       "      <td>0.971920</td>\n",
       "    </tr>\n",
       "    <tr>\n",
       "      <th>3</th>\n",
       "      <td>Sun Apr 09 12:26:28 +0000 2017</td>\n",
       "      <td>851048667309944832</td>\n",
       "      <td></td>\n",
       "      <td></td>\n",
       "      <td>밥 먹으면서 그냥 해볼게요*_ _) #1orpg시작시기_2좋아하는세션타입_3잘안맞는...</td>\n",
       "      <td>NOAH_11110101</td>\n",
       "      <td>ko</td>\n",
       "      <td>1.000000</td>\n",
       "    </tr>\n",
       "    <tr>\n",
       "      <th>4</th>\n",
       "      <td>Sun Apr 09 15:28:23 +0000 2017</td>\n",
       "      <td>851094448142417920</td>\n",
       "      <td></td>\n",
       "      <td></td>\n",
       "      <td>Most of the media totally ignored the election...</td>\n",
       "      <td>fauxcroft</td>\n",
       "      <td>en</td>\n",
       "      <td>1.000000</td>\n",
       "    </tr>\n",
       "  </tbody>\n",
       "</table>\n",
       "</div>"
      ],
      "text/plain": [
       "                             date                  id location.country  \\\n",
       "0  Sat Apr 08 16:27:26 +0000 2017  850746920700174337                    \n",
       "1  Sun Apr 09 00:41:55 +0000 2017  850871361476202496                    \n",
       "2  Sun Apr 09 05:50:36 +0000 2017  850949044184772608                    \n",
       "3  Sun Apr 09 12:26:28 +0000 2017  851048667309944832                    \n",
       "4  Sun Apr 09 15:28:23 +0000 2017  851094448142417920                    \n",
       "\n",
       "  location.name                                               text  \\\n",
       "0                Renunciar al creixement  econòmic per un fi po...   \n",
       "1                very few people know what I've been through......   \n",
       "2                AŞK bedenin bedeni sevmesi degil RUHUN RUHU SE...   \n",
       "3                밥 먹으면서 그냥 해볼게요*_ _) #1orpg시작시기_2좋아하는세션타입_3잘안맞는...   \n",
       "4                Most of the media totally ignored the election...   \n",
       "\n",
       "             user lang      conf  \n",
       "0      ramonjmagi   ca  0.995823  \n",
       "1  TavarezRenaldy   en  1.000000  \n",
       "2   cemilesakin88   tr  0.971920  \n",
       "3   NOAH_11110101   ko  1.000000  \n",
       "4       fauxcroft   en  1.000000  "
      ]
     },
     "execution_count": 14,
     "metadata": {},
     "output_type": "execute_result"
    }
   ],
   "source": [
    "ref_tweet_data.head()"
   ]
  },
  {
   "cell_type": "code",
   "execution_count": 15,
   "metadata": {
    "collapsed": false
   },
   "outputs": [
    {
     "name": "stdout",
     "output_type": "stream",
     "text": [
      "2549 Catalan tweets\n",
      "4320 Spanish tweets\n"
     ]
    }
   ],
   "source": [
    "ca_tweets = ref_tweet_data[ref_tweet_data.loc[:, 'lang'] == 'ca']\n",
    "es_tweets = ref_tweet_data[ref_tweet_data.loc[:, 'lang'] == 'es']\n",
    "print('%d Catalan tweets'%(ca_tweets.shape[0]))\n",
    "print('%d Spanish tweets'%(es_tweets.shape[0]))"
   ]
  },
  {
   "cell_type": "markdown",
   "metadata": {},
   "source": [
    "Let's get a sample of 50 Catalan and 50 Spanish tweets."
   ]
  },
  {
   "cell_type": "code",
   "execution_count": 17,
   "metadata": {
    "collapsed": true
   },
   "outputs": [],
   "source": [
    "# set seed\n",
    "pd.np.random.seed(123)\n",
    "N = 100\n",
    "sample_size = N / 2\n",
    "ca_sample = ca_tweets.loc[pd.np.random.choice(ca_tweets.index, sample_size, replace=False), :]\n",
    "es_sample = es_tweets.loc[pd.np.random.choice(es_tweets.index, sample_size, replace=False), :]\n",
    "combined_sample = pd.concat([ca_sample, es_sample])"
   ]
  },
  {
   "cell_type": "code",
   "execution_count": 20,
   "metadata": {
    "collapsed": true
   },
   "outputs": [],
   "source": [
    "# clean up text for printing\n",
    "combined_sample.loc[:, 'text'] = combined_sample.loc[:, 'text'].apply(lambda x: x.replace('\\n', ''))"
   ]
  },
  {
   "cell_type": "code",
   "execution_count": 26,
   "metadata": {
    "collapsed": false
   },
   "outputs": [
    {
     "name": "stdout",
     "output_type": "stream",
     "text": [
      "lang=ca:\tSense llum per a que puguin fer sessió de cinema cada nit. Però no pelis de la WB... #FreePiolin https://t.co/23yzWNrqh7\n",
      "lang=ca:\t🗳️ He votat \"Sí\" per raons democràtiques, socials,  econòmiques i de justícia  #1Oct  #Democracia #CatalanReferendum https://t.co/4An13LO1E9\n",
      "lang=ca:\t#Salomó per la #democràcia, demà us hi esperem a tots! #Catalonia #Catalunya #1Oct https://t.co/VfeiVd8Qxp\n",
      "lang=ca:\t#CatalanReferendum Apliquen el cens universal. La gent podrà anar a votar a qualsevol col.legi habilitat per votar del territori català\n",
      "lang=ca:\tPodem canviar ja el crit de #votarem per #hemvotat?\n",
      "lang=ca:\tFantàstic! #seguim #votarem https://t.co/eS2vgQrPZC\n",
      "lang=ca:\tPels que ja no hi són i pels que vindran, demà tothom a les urnes. #votarem https://t.co/sQ0ztS9wKj\n",
      "lang=ca:\tA Gelida l'#1O volem votar #comsempre. @lluis_valls, obri els col·legis! https://t.co/pWc61Q5Cdi\n",
      "lang=ca:\tEns podem veure el cava, oi? 🤔#1OoctTV3\n",
      "lang=ca:\tEl P-LIB català condemna absolutament la repressió policial del 1-O  https://t.co/Wo0TJsc84o #CatalanReferendum #1Oct\n",
      "lang=ca:\tAnyorem els anglesos adolescents del turisme de borratxera, que són més decents. #1OCT https://t.co/HC3GvRhon8\n",
      "lang=ca:\t@Albiol_XG si modifiques la constitucio ja no tens marc, pq estas modificant el marc. No te sentit el q dius #1octL6\n",
      "lang=ca:\t@jcuixart reivindica que els que volen el NO tb vagin a votar. Oh, i tant que sí! Legitimem el #referendum1O de tots.@omnium\n",
      "lang=ca:\t@albertbotran ets el meu nou idol!! Boniissima intervenció al Parlament, quin zasca per @Albiol_XG #republicacatalana #OpenBorders\n",
      "lang=ca:\tPer coses com aquestes i altres de pitjors #1OctVotare https://t.co/Vb8qqIs2xR\n",
      "lang=ca:\tPer coherència, hauria d’estar preocupat pel benestar dels piròmans, no? L’#1O li preocupaven els maltractadors, i… https://t.co/qoIbWVuj78\n",
      "lang=ca:\tFrancesc Sutrias, director general de patrimoni de la Generalitat ha estat detingut al seu domicili a #rubicity Tota la solidaritat #Votarem\n",
      "lang=ca:\tAl Fossar de les Moreres no s'hi enterra cap traïdor; fins perdent nostres banderes serà l'urna de l'honor! #1O\n",
      "lang=ca:\tParada de la @cupgirona al mercat de la Devesa. Expliquem els motius per anar a votar l'#1Oct i donem arguments pel… https://t.co/s2OrwSelGg\n",
      "lang=ca:\tVaja que la fiscalia deu necessitsr la meutst del cens +1 per condemnar la policia. Molt afinada #ReferendumCatalan #vergonya\n",
      "lang=ca:\tQue fort! Con s’atreveixen a tractar d’aquesta manera un ajuntament escollit pel poble! #RepublicaCatalana JA https://t.co/TrkT4TJYz9\n",
      "lang=ca:\t#votarem #LaRevolucioDelsSomriures @ERC_BaixLlobreg @Esquerra_ERC No pararan la democràcia. @elnacionalcat @maticatradio #1OCTReferendum\n",
      "lang=ca:\tDesprés de la càrrega, l'EOI de Lleida es torna a omplir de gent per votar. #1OSegre https://t.co/tDzzIp4XdO\n",
      "lang=ca:\tQuina llàstima  #TotsSomCatalunya https://t.co/ccyoRXVBrs\n",
      "lang=ca:\tpobre Polin només volia anar a votar l'1-O. #FreePiolin https://t.co/Dc3pE57Ypp\n",
      "lang=ca:\t@elvallenc no defalliu estem amb vosaltres #totssomElVallenc #jotinclespaperetes @guardiacivil #referendumCAT\n",
      "lang=ca:\tVeiem... @ANC_Economistes Necessitem guia ràpida de desobediència econòmica... Veig a venir que no tindrem altre recurs... #1OSíoDui\n",
      "lang=ca:\tQue diu en @marianorajoy que no hi ha hagut #referendumCAT#CatalanReferendum https://t.co/Mlk62aL3r5\n",
      "lang=ca:\tEns preparem a Amposta #1octL6 https://t.co/ehhFJFaJKl\n",
      "lang=ca:\t@JulianAssange @quimarrufat #CatalanReferendum aquest cop si poble catala!!! No tinguem por!!!Ens amenaçaran amb l… https://t.co/61PEtHC4Zh\n",
      "lang=ca:\tHem arribat fins aqui, per VOTAR I GUANYAR DEMOCRÀTICAMENT!#Votarem el #1Oct\n",
      "lang=ca:\t@KukiDO87 @QuinManso @s0msirem Parlem un mínim de dos idiomas tots els dies. No sé qui és més retrasada. #Votarem i… https://t.co/Y030e5Ak4s\n",
      "lang=ca:\tTinc un vot i el faré servir #1Oct #SensePor #Cassolada https://t.co/IfAaPmTVOP\n",
      "lang=ca:\t#8aldia aniré a la mesa i si tot va com fins ara si cal estarem alla a primera hora #votarem #1O #referendumcatalunya\n",
      "lang=ca:\tMenys #RevetlladeSantJoan i més treballar pel país!!!!#1Oct\n",
      "lang=ca:\tFins i tot ataquen les biblioteques. #1Oct #Votarem SÍ o SÍ https://t.co/uSxrAP2xDf\n",
      "lang=ca:\tOrgullosa del meu país i de la meva gent. #1oct #CatalanReferendum\n",
      "lang=ca:\tUna persona que no pot decidir, un poble que no pot decidir...és un esclau #votaremSi\n",
      "lang=ca:\tQue partits reivindicatius demanin \"garanties\" per recolzar el referèndum no s'acaba d'entendre #referendumCAT\n",
      "lang=ca:\tA la plaça saragossa de #Terrassa cada dia hi ha més Mossos. Per la rambla egara també es veuen Municipals. Estat policial. #1Oct #1O\n",
      "lang=ca:\t@AlbertoCadiz96 Bona tarda! Aquest octubre, referèndum! Vota, entre totes decidim el futur de Catalunya. #1OCT https://t.co/h0Pbht7GCH\n",
      "lang=ca:\tVolien tapar-se les vergonyes i l'han liat més😂😂😂quina tropa de barruts #FreePiolin #P1Olin\n",
      "lang=ca:\t1-O Estafa Antidemocràtica – #1OEstafaAntidemocratica https://t.co/V1XCvewD2m\n",
      "lang=ca:\tDeixem a Catalunha decidir o seu destino https://t.co/a1mAC7OZRF #catalunya #omnium #dretadecidir #1O #referendum1-O\n",
      "lang=ca:\tAlgú sap on és? Potser ha marxat uns dies a Suïssa amb la seva germana a estar a “cuerpo de rey” #1Oct #3oct… https://t.co/thjnUkXbnz\n",
      "lang=ca:\tCada cop estic més trista. Com pot ser que després d'avui negar la realitat sigui sent la resposta? #Verguenza #Shame #CatalanReferendum #1o\n",
      "lang=ca:\tAvui Catalunya ha partit un atac terrorista.Terrorisme d'Estat.#CatalanReferendum #helpCatalonia #democracy\n",
      "lang=ca:\tPuigdemont representa les retallades de FMI a Catalunya #1oEstafaAntidemocratica Cal regeneració i revertir les ret… https://t.co/bjIueDZltH\n",
      "lang=ca:\tAprovada la tramitació per lectura única de les lleis de desconnexió. Genial! #Marxem #referendumCAT… https://t.co/aicsayUVYd\n",
      "lang=ca:\tProteger la convivencia #Votarem #Catalunya https://t.co/ZwKwLLGOy6\n",
      "lang=es:\t@quetak @324cat @marianorajoy aquí tienes la manifestación de los tuyos. Creo que ganan las otras #votarem #notincpor\n",
      "lang=es:\tLa #Colau se la quiere #colar a los #catalanes con el #referendumpactado https://t.co/mZYdselsVr\n",
      "lang=es:\tVielma Mora: “Cada 24 de julio debemos renacer para defender la patria y la libertad” https://t.co/dpaCgEZKfm #VotaremosYVenceremos\n",
      "lang=es:\t#1Oct ¿Y LA DEMOCRACIA? Tribunal de España ordena a Google retirar contenidos relacionados con referéndum catalán https://t.co/93T7NcnjqA\n",
      "lang=es:\t#1octdatapelsi y NO PODEMOS FALLAR HAY QUE DEMOSTRAR QUE SOMOS UNA NACIÓN UNIDA EN BUSCA DE LIBERTAD.HAY QUE IR A… https://t.co/TR8NBdK8lj\n",
      "lang=es:\tUna tertuliana de @rtve @24h_tve con cara de orgullo con la intervención de la policía en Cataluña... y justificándola! #1Oct #Referendum\n",
      "lang=es:\t#CatalanReferendum Que verguenza para un politico catalan, que sean los abuelos los que se partan la cara por la independencia.COBARDES.\n",
      "lang=es:\t\"Quien siembra vientos,recoge tempestades\" o ya no recordamos lo que han sufrido la Policía y la Guardia Civil#ReferendumCatalan #1OctARV\n",
      "lang=es:\tSoraya hablando de que el Estado de Derecho tiene herramientas para hacer cumplir la ley, ya las vemos #1Oct https://t.co/wcn9xN1zXo\n",
      "lang=es:\tQué bueno Paco Frutos criticando a la \"izquierda seguidora del nacionalismo\" preguntando por que no están ahí. #TotsSomCatalunya\n",
      "lang=es:\t#CatalanReferendum A ver cómo explica y justifica Rajoy la violencia que se ha visto! LA-MEN-TA-BLE y VER-GON-ZO-SO\n",
      "lang=es:\t@elmundoes Esta portada no tendría que ser impugnada por publicidad al #referendum ? #pobrets #Votarem #NoTenimPor https://t.co/x4RaQ3uUrP\n",
      "lang=es:\tCierran páginas web,censuran TV pública,amenazan e inhabilitan cargos públicos,registran imprentas... #HolaDictadura #backtothefuture  #1OCT\n",
      "lang=es:\tAumenta a 465 el número de heridos por las cargas policiales. #CatalanReferendum https://t.co/zYa6pVz9Zm\n",
      "lang=es:\tJamás entenderé a quien va contra la Ley y lo peor es que muchas de esas personas son los representantes de todos los españoles #1Octubre\n",
      "lang=es:\t@gabrielrufian Yo con ver la tuya pronto ya me me fumaré un puro.#CatalanReferendum\n",
      "lang=es:\tEsquina inferior izda, cuatro sociolistos en sintonía con PP y C's sobre el #1OCT: pisotear #Catalunya con el art.1… https://t.co/FtCkJLv070\n",
      "lang=es:\tQuant amor...#ProuPuigdemont#CataluñaEsEspaña#155MejorHoyQueMañana\n",
      "lang=es:\t@miguelguada60 No se temen a las urnas sino a la represión policial que va a desencadenar y no están listos#Diada2017 #1O\n",
      "lang=es:\tTensión en #Referendum1oct #referendumcatalunyaGuardia civil repliega a votantes.Foto de @EFEnoticias publicada… https://t.co/9fV6b7cZ1H\n",
      "lang=es:\t#ProuPuigdemont #CataluñaEsEspañahttps://t.co/KtjN62nlCi\n",
      "lang=es:\tNo sentía tanta vergüenza de ser español desde “La Macarena” Aaaayyy!🎼#CatalanReferendum\n",
      "lang=es:\t\"Suma y sigue\" segueixen sense entendre q es el poble q vol democracia #Ref1oct https://t.co/PuE1sPh8ry\n",
      "lang=es:\tPor el derecho a decidir de los pueblos. Contra la represión. Contra la corrupción. #RajoyDimisión #CatalanReferendum #1Oct\n",
      "lang=es:\t#CatalanReferendum ¿No hay UNA SOLA voz en el Ejército que ADVIERTA que no se va a tolerar el más leve conato de secesión? ¿Ni UNA SOLA?\n",
      "lang=es:\t@gabrielrufian El mayor cuadro eres TU! Puta gorda! #CatalanReferendum\n",
      "lang=es:\t#Venezuela Los requisitos para solicitar la visa estampada para entrar a Panamá desde el #1Oct …… https://t.co/xyrvPgjBJS\n",
      "lang=es:\tponed urnas hombre  !! la gente quire VOTAR... VOTAR#1oct #Referendum1oct   #MovilizaciónCataluñaESP #referendumcatalunya\n",
      "lang=es:\t#referendum1deoctubre ¿Le pagará la República Independiente de Cataluña a @gabrielrufian los 7.848,99€ que le pagamos los españoles?\n",
      "lang=es:\tRetweeted Alberto R. del Nogal (@AlbertoRNogal):Sol ha está lleno. Apoyando el #CatalanReferendum y la... https://t.co/YjUS0H5YE5\n",
      "lang=es:\tUn San Jordi le dice a un dragon,ven, azucarillo, enfréntate a mi valor#RepúblicaSí#marxem\n",
      "lang=es:\t#CatalanReferendum | La policía y la guardia civil española han realizado acciones violentas contra los catalanes … https://t.co/q38nLyf0Cr\n",
      "lang=es:\t#1Oct ¡HASTA DEL MAL QUE SE VA A MORIR! Vea por qué Marc Anthony insultó a Donald Trump (+CÁLLESE LA BOCA) https://t.co/3wM0YsA8y8\n",
      "lang=es:\tEn momentos difíciles aflora la esencia  de las personas. El Gobierno-PP se está retratando y parte de la izquierda con ellos #1octubreARV\n",
      "lang=es:\tcon mi pequeña pension voy a sacarla de la caixa por si se va a españa--ojo ojo #1oct\n",
      "lang=es:\t#1oEstafaAntidemocratica que le viene genial al #pp y a los independentistas para ganar votos y polarizar España. https://t.co/ZeVrHUb3tm\n",
      "lang=es:\t#Video de la participación de Paco_Abundis en mexaldia hablando sobre #Alemania y el #referendumcataluna https://t.co/yq1bBP4nVC\n",
      "lang=es:\t@PortuariosCNT @policia @policia Nos podéis herir pero jamás nos hundiréis. #freedomforcatalonia #CataloniaIsNotSpain #Democracy\n",
      "lang=es:\tjaarreaza \"RT VillegasPoljak: Con Jorge y su ejemplo: ¡Seguir perseverando! #VotaremosYVenceremos #VenezuelaVotaEn… https://t.co/9nGOKmnOhq\"\n",
      "lang=es:\t#1Oct ...Dia nacional del Cacao...El mejor del mundo. https://t.co/IIyPSKvmNe\n",
      "lang=es:\tRLC (2017-08-06) Comunicado del Vice Almirante Mario Ivan Carratú Molina. https://t.co/pkHM23KNom UI4 AÑX #DontDUIt #PDG89\n",
      "lang=es:\tDICTADURA! #Freedom #CorruPPcion #RepublicaYa #republicacatalana #Independenceday2017 #moncloa #referendumcatalunya https://t.co/XscQsHjwAE\n",
      "lang=es:\tIñaki, que pena no se ven nuestros twits! #1octL6\n",
      "lang=es:\tya o que... son las 19:00¬¬  #CatalanReferendum\n",
      "lang=es:\t#CatalanReferendum que alguien calle al anormal del tarda, ya de una vez, no lo soporto, joder tanto hablar y volvemos a lo mismo bla bla\n",
      "lang=es:\t#1OctARV que lavado de cerebro\n",
      "lang=es:\t#LNSanciones Fachas de mierda. Estudiad vosotros y pagad los estudios al mismo precio que aqui. #Votarem\n",
      "lang=es:\t#CatalanReferendum Vea cuanto heridos hay por represión en referendo de Cataluña - https://t.co/9TphHAsOyK  Via Co…\n",
      "lang=es:\tDos perderemos, pero ustedes mucho más. No es hora de empezar a pensar en positivo? #republicacatalana https://t.co/pAADOcGORj\n",
      "lang=es:\tDisparos GolpesSangreHeridos Insistimos, no es Venezuela es España, el Gobierno de Rajoy #vergüenza #RajoyDIMISION #CatalanReferendum\n"
     ]
    }
   ],
   "source": [
    "print('\\n'.join(combined_sample.apply(lambda x: 'lang=%s:\\t%s'%(x.loc['lang'], x.loc['text']), axis=1).values))"
   ]
  },
  {
   "cell_type": "markdown",
   "metadata": {},
   "source": [
    "Dump to file for annotation, reupload later."
   ]
  },
  {
   "cell_type": "code",
   "execution_count": 27,
   "metadata": {
    "collapsed": true
   },
   "outputs": [],
   "source": [
    "combined_sample.to_csv('../../data/tweets/CA_ES_sample_tweets.tsv', sep='\\t', index=False, encoding='utf-8')"
   ]
  },
  {
   "cell_type": "code",
   "execution_count": null,
   "metadata": {
    "collapsed": true
   },
   "outputs": [],
   "source": []
  }
 ],
 "metadata": {
  "kernelspec": {
   "display_name": "Python 2",
   "language": "python",
   "name": "python2"
  },
  "language_info": {
   "codemirror_mode": {
    "name": "ipython",
    "version": 2
   },
   "file_extension": ".py",
   "mimetype": "text/x-python",
   "name": "python",
   "nbconvert_exporter": "python",
   "pygments_lexer": "ipython2",
   "version": "2.7.10"
  }
 },
 "nbformat": 4,
 "nbformat_minor": 0
}
