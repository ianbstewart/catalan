{
 "cells": [
  {
   "cell_type": "code",
   "execution_count": 89,
   "metadata": {
    "collapsed": true
   },
   "outputs": [],
   "source": [
    "from __future__ import unicode_literals, division\n",
    "import json\n",
    "from collections import Counter, defaultdict\n",
    "import pandas as pd"
   ]
  },
  {
   "cell_type": "code",
   "execution_count": 90,
   "metadata": {
    "collapsed": false
   },
   "outputs": [],
   "source": [
    "base_ht_df = pd.read_csv('../../data/expanded_hashtags.csv', encoding='UTF8')\n",
    "exp_ht_df = pd.read_csv('../../data/expanded_fixed_hashtags.csv', encoding='UTF8')"
   ]
  },
  {
   "cell_type": "code",
   "execution_count": 91,
   "metadata": {
    "collapsed": false
   },
   "outputs": [
    {
     "name": "stdout",
     "output_type": "stream",
     "text": [
      "38 45\n"
     ]
    }
   ],
   "source": [
    "all_ht_df = base_ht_df.merge(exp_ht_df, how='outer', left_on='hashtag', right_on='original')\n",
    "pro_tags = [h.strip() for h in all_ht_df[all_ht_df.sentiment == 'pro']['expanded']]\n",
    "anti_tags = [h.strip() for h in all_ht_df[all_ht_df.sentiment == 'anti']['expanded']]\n",
    "#print pro_tags, anti_tags\n",
    "print len(pro_tags), len(anti_tags)"
   ]
  },
  {
   "cell_type": "code",
   "execution_count": 92,
   "metadata": {
    "collapsed": false
   },
   "outputs": [
    {
     "name": "stdout",
     "output_type": "stream",
     "text": [
      "1422\n",
      "1084 327\n"
     ]
    }
   ],
   "source": [
    "dec = json.JSONDecoder()\n",
    "user_counts = defaultdict(Counter)\n",
    "with open('../../data/tweets/archive_Jan-01-17_Oct-31-17_ref_hashtags_filtered.json') as json_file:\n",
    "    for l in json_file:\n",
    "        record = dec.decode(l)\n",
    "        hashtags = [t.strip()[1:] for t in record['text'].split() if t.startswith('#')]\n",
    "        pro_ct = len([h for h in hashtags if h in pro_tags])\n",
    "        anti_ct = len([h for h in hashtags if h in anti_tags])\n",
    "        if pro_ct > 0:\n",
    "            user_counts[record['user']]['pro'] += 1\n",
    "        if anti_ct > 0:\n",
    "            user_counts[record['user']]['anti'] += 1\n",
    "print len(user_counts)\n",
    "\n",
    "def pro_rate(user_ct):\n",
    "    return user_ct['pro'] / sum(user_ct.values())\n",
    "\n",
    "pro_users = [u for u,c in user_counts.items() if pro_rate(c) >= 0.75]\n",
    "anti_users = [u for u,c in user_counts.items() if pro_rate(c) <= 0.25]\n",
    "\n",
    "print len(pro_users), len(anti_users)"
   ]
  },
  {
   "cell_type": "code",
   "execution_count": 93,
   "metadata": {
    "collapsed": false
   },
   "outputs": [
    {
     "data": {
      "text/plain": [
       "1411"
      ]
     },
     "execution_count": 93,
     "metadata": {},
     "output_type": "execute_result"
    }
   ],
   "source": [
    "out_df = pd.concat([pd.DataFrame(data={'username':pro_users, 'group':'YES'}),\n",
    "                    pd.DataFrame(data={'username':anti_users, 'group':'NO'})])\n",
    "len(out_df2)"
   ]
  },
  {
   "cell_type": "code",
   "execution_count": 94,
   "metadata": {
    "collapsed": false,
    "scrolled": true
   },
   "outputs": [
    {
     "data": {
      "text/html": [
       "<div>\n",
       "<style>\n",
       "    .dataframe thead tr:only-child th {\n",
       "        text-align: right;\n",
       "    }\n",
       "\n",
       "    .dataframe thead th {\n",
       "        text-align: left;\n",
       "    }\n",
       "\n",
       "    .dataframe tbody tr th {\n",
       "        vertical-align: top;\n",
       "    }\n",
       "</style>\n",
       "<table border=\"1\" class=\"dataframe\">\n",
       "  <thead>\n",
       "    <tr style=\"text-align: right;\">\n",
       "      <th></th>\n",
       "      <th>group</th>\n",
       "      <th>username</th>\n",
       "    </tr>\n",
       "  </thead>\n",
       "  <tbody>\n",
       "    <tr>\n",
       "      <th>0</th>\n",
       "      <td>YES</td>\n",
       "      <td>TTrendingTopicc</td>\n",
       "    </tr>\n",
       "    <tr>\n",
       "      <th>1</th>\n",
       "      <td>YES</td>\n",
       "      <td>zibzeg</td>\n",
       "    </tr>\n",
       "    <tr>\n",
       "      <th>2</th>\n",
       "      <td>YES</td>\n",
       "      <td>ddos_mg</td>\n",
       "    </tr>\n",
       "    <tr>\n",
       "      <th>3</th>\n",
       "      <td>YES</td>\n",
       "      <td>jeff_puente</td>\n",
       "    </tr>\n",
       "    <tr>\n",
       "      <th>4</th>\n",
       "      <td>YES</td>\n",
       "      <td>alvarorickman</td>\n",
       "    </tr>\n",
       "  </tbody>\n",
       "</table>\n",
       "</div>"
      ],
      "text/plain": [
       "  group         username\n",
       "0   YES  TTrendingTopicc\n",
       "1   YES           zibzeg\n",
       "2   YES          ddos_mg\n",
       "3   YES      jeff_puente\n",
       "4   YES    alvarorickman"
      ]
     },
     "execution_count": 94,
     "metadata": {},
     "output_type": "execute_result"
    }
   ],
   "source": [
    "out_df.head()"
   ]
  },
  {
   "cell_type": "code",
   "execution_count": 95,
   "metadata": {
    "collapsed": true
   },
   "outputs": [],
   "source": [
    "out_df.to_csv('../../data/user_groups.csv', index=False, encoding='UTF8')"
   ]
  }
 ],
 "metadata": {
  "kernelspec": {
   "display_name": "Python 2",
   "language": "python",
   "name": "python2"
  },
  "language_info": {
   "codemirror_mode": {
    "name": "ipython",
    "version": 2
   },
   "file_extension": ".py",
   "mimetype": "text/x-python",
   "name": "python",
   "nbconvert_exporter": "python",
   "pygments_lexer": "ipython2",
   "version": "2.7.10"
  }
 },
 "nbformat": 4,
 "nbformat_minor": 0
}
