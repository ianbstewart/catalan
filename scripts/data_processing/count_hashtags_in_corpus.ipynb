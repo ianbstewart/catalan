{
 "cells": [
  {
   "cell_type": "markdown",
   "metadata": {},
   "source": [
    "# Count hashtags in corpus\n",
    "In which we count the frequency of hashtags from the referendum list in our corpus."
   ]
  },
  {
   "cell_type": "code",
   "execution_count": 9,
   "metadata": {
    "collapsed": true
   },
   "outputs": [],
   "source": [
    "import pandas as pd\n",
    "import json\n",
    "import re\n",
    "import codecs\n",
    "from collections import Counter"
   ]
  },
  {
   "cell_type": "markdown",
   "metadata": {},
   "source": [
    "## Load data"
   ]
  },
  {
   "cell_type": "code",
   "execution_count": 5,
   "metadata": {
    "collapsed": false
   },
   "outputs": [
    {
     "name": "stdout",
     "output_type": "stream",
     "text": [
      "                 hashtag sentiment               expanded\n",
      "0  DemocraciaMarcaEspaña       pro  democraciamarcaespaña\n",
      "1  DemocraciaMarcaEspaña       pro  democraciamarcaespana\n",
      "2  DemocraciaMarcaEspaña       pro  DemocraciaMarcaEspana\n",
      "3  DemocraciaMarcaEspaña       pro  DemocraciaMarcaEspaña\n",
      "4          CataluñaLibre       pro          CatalunaLibre\n"
     ]
    }
   ],
   "source": [
    "hashtag_df = pd.read_csv('../../data/expanded_hashtags.csv', index_col=False)\n",
    "expanded_hashtag_df = pd.read_csv('../../data/expanded_fixed_hashtags.csv', index_col=False)\n",
    "# join\n",
    "hashtag_df = pd.merge(hashtag_df, expanded_hashtag_df, left_on='hashtag', right_on='original').drop(['s', 'original', 'comments'], inplace=False, axis=1)\n",
    "print(hashtag_df.head())"
   ]
  },
  {
   "cell_type": "code",
   "execution_count": 8,
   "metadata": {
    "collapsed": false
   },
   "outputs": [
    {
     "name": "stdout",
     "output_type": "stream",
     "text": [
      "['democracia', 'yes']\n"
     ]
    }
   ],
   "source": [
    "hashtag_matcher = re.compile('(?<=\\#)[^ \\.\\#]+')\n",
    "test = 'blah #democracia#yes blah'\n",
    "print(hashtag_matcher.findall(test))"
   ]
  },
  {
   "cell_type": "code",
   "execution_count": 13,
   "metadata": {
    "collapsed": false
   },
   "outputs": [
    {
     "name": "stdout",
     "output_type": "stream",
     "text": [
      "problem with tweet {\"created_at\":\"Sun Oct 01 08:07:26 +0000 2017\",\"id\":914401355921534976,\"id_str\":\"914401355921534976\",\"text\":\"Da lo que tienes para que merezcas recibir lo que te falta #CatalanReferendum https:\\/\\/t.co\\/6QGsRumNi4\",\"display_text_range\":[0,77],\"source\":\"\\u003ca href=\\\"http:\\/\\/twitter.com\\\" rel=\\\"nofollow\\\"\\u003eTwitter Web Client\\u003c\\/a\\u003e\",\"truncated\":false,\"in_reply_to_status_id\":null,\"in_reply_to_status_id_str\":null,\"in_reply_to_user_id\":null,\"in_reply_to_user_id_str\":null,\"in_reply_to_screen_name\":null,\"user\":{\"id\":2897985604,\"id_str\":\"2897985604\",\"name\":\"Giulio Toscani\",\"screen_name\":\"giuliotoscani\",\"location\":\"Barcelona, Catalu\\u00f1a\",\"url\":null,\"description\":\"Education is the path from cocky ignorance to miserable uncertainty.\",\"translator_type\":\"none\",\"\n"
     ]
    }
   ],
   "source": [
    "# collect hashtags\n",
    "ct_data_file = '../../data/tweets/archive_Jan-01-17_Oct-31-17_ref_hashtags.json'\n",
    "hashtag_counter = Counter()\n",
    "for l in codecs.open(ct_data_file, 'r', encoding='utf-8'):\n",
    "    try:\n",
    "        j = json.loads(l.strip())\n",
    "        j_txt = j['text']\n",
    "        j_hashtags = hashtag_matcher.findall(j_txt)\n",
    "        hashtag_counter.update(j_hashtags)\n",
    "    except Exception, e:\n",
    "        print('problem with tweet %s'%(l.strip()))"
   ]
  },
  {
   "cell_type": "code",
   "execution_count": 14,
   "metadata": {
    "collapsed": false
   },
   "outputs": [
    {
     "name": "stdout",
     "output_type": "stream",
     "text": [
      "[(u'CatalanReferendum', 24614), (u'1Oct', 7237), (u'1O', 5265), (u'1of1', 3031), (u'1OCT', 2756), (u'referendum', 2496), (u'1oct', 2447), (u'Catalonia', 2264), (u'referendumCAT', 1992), (u'votarem', 1815)]\n"
     ]
    }
   ],
   "source": [
    "print(hashtag_counter.most_common(10))"
   ]
  },
  {
   "cell_type": "markdown",
   "metadata": {},
   "source": [
    "Hashtag counts make sense! Let's use these for our \"full\" counts and then compute the actual counts from the smaller filtered dataset."
   ]
  },
  {
   "cell_type": "code",
   "execution_count": 17,
   "metadata": {
    "collapsed": false
   },
   "outputs": [
    {
     "name": "stdout",
     "output_type": "stream",
     "text": [
      "CatalanReferendum           25603\n",
      "1Oct                         9684\n",
      "1O                           6174\n",
      "Votarem                      3592\n",
      "referéndum                   2496\n",
      "referendumCAT                2074\n",
      "TotsSomCatalunya             1810\n",
      "FreePiolin                   1797\n",
      "1octL6                        942\n",
      "ReferendumCatalan             910\n",
      "1Oct2017                      731\n",
      "ProuPuigdemont                591\n",
      "RepúblicaCatalana             566\n",
      "referendum1deoctubre          456\n",
      "CatalanRef2017                400\n",
      "Ref1oct                       294\n",
      "marxem                        274\n",
      "CatalanReferendum2017         273\n",
      "JoVoto                        212\n",
      "OrgullososDeSerEspañoles      205\n",
      "1Oct2017votarem               167\n",
      "CataluñaEsEspaña              167\n",
      "ref1oct                       125\n",
      "EspanaNoSeRompe                69\n",
      "CataluñaLibre                  68\n",
      "1ONoTincPor                    55\n",
      "DontDUIt                       41\n",
      "LetCatalansVote                27\n",
      "SpanishDictatorship            26\n",
      "CataloniaIsNotSpain            18\n",
      "CATvotaSí                      15\n",
      "spainispain                    13\n",
      "EspañaUnida                    13\n",
      "SpanishRepression              12\n",
      "IndependenciaCataluña          10\n",
      "PorLaUnidadDeEspaña             5\n",
      "Freedom4Catalonia               2\n",
      "LongLiveTheUnityOfSpain         2\n",
      "DefiendeLaDemocracia            1\n",
      "dtype: int64\n"
     ]
    }
   ],
   "source": [
    "hashtag_count_series = pd.Series(hashtag_counter)\n",
    "# filter\n",
    "overlap_hashtags = set(hashtag_count_series.index) & set(hashtag_df.loc[:, 'expanded'])\n",
    "hashtag_count_series = hashtag_count_series.loc[overlap_hashtags].sort_values(inplace=False, ascending=False)\n",
    "# collapse\n",
    "hashtag_counts_collapsed = {}\n",
    "for original_hashtag, hashtag_group in hashtag_df.groupby('hashtag'):\n",
    "    o_overlap_expanded = set(hashtag_group.loc[:, 'expanded']) & set(hashtag_count_series.index)\n",
    "    if(len(o_overlap_expanded) > 0):\n",
    "        hashtag_counts_collapsed[original_hashtag] = hashtag_count_series.loc[o_overlap_expanded].sum()\n",
    "hashtag_counts_collapsed = pd.Series(hashtag_counts_collapsed).sort_values(inplace=False, ascending=False)\n",
    "print(hashtag_counts_collapsed)"
   ]
  },
  {
   "cell_type": "markdown",
   "metadata": {},
   "source": [
    "Same thing with the filtered data."
   ]
  },
  {
   "cell_type": "code",
   "execution_count": 18,
   "metadata": {
    "collapsed": true
   },
   "outputs": [],
   "source": [
    "def get_hashtag_counts(f, hashtag_df):\n",
    "    hashtag_counter = Counter()\n",
    "    for l in codecs.open(f, 'r', encoding='utf-8'):\n",
    "        try:\n",
    "            j = json.loads(l.strip())\n",
    "            j_txt = j['text']\n",
    "            j_hashtags = hashtag_matcher.findall(j_txt)\n",
    "            hashtag_counter.update(j_hashtags)\n",
    "        except Exception, e:\n",
    "            print('problem with tweet %s'%(l.strip()))\n",
    "    hashtag_count_series = pd.Series(hashtag_counter)\n",
    "    # filter\n",
    "    overlap_hashtags = set(hashtag_count_series.index) & set(hashtag_df.loc[:, 'expanded'])\n",
    "    hashtag_count_series = hashtag_count_series.loc[overlap_hashtags].sort_values(inplace=False, ascending=False)\n",
    "    # collapse\n",
    "    hashtag_counts_collapsed = {}\n",
    "    for original_hashtag, hashtag_group in hashtag_df.groupby('hashtag'):\n",
    "        o_overlap_expanded = set(hashtag_group.loc[:, 'expanded']) & set(hashtag_count_series.index)\n",
    "        if(len(o_overlap_expanded) > 0):\n",
    "            hashtag_counts_collapsed[original_hashtag] = hashtag_count_series.loc[o_overlap_expanded].sum()\n",
    "    hashtag_counts_collapsed = pd.Series(hashtag_counts_collapsed).sort_values(inplace=False, ascending=False)\n",
    "    return hashtag_counts_collapsed"
   ]
  },
  {
   "cell_type": "code",
   "execution_count": 20,
   "metadata": {
    "collapsed": false
   },
   "outputs": [],
   "source": [
    "ct_data_filtered_file = '../../data/tweets/archive_Jan-01-17_Oct-31-17_ref_hashtags_filtered.json'\n",
    "hashtag_counts = get_hashtag_counts(ct_data_filtered_file, hashtag_df)"
   ]
  },
  {
   "cell_type": "code",
   "execution_count": 21,
   "metadata": {
    "collapsed": false
   },
   "outputs": [
    {
     "name": "stdout",
     "output_type": "stream",
     "text": [
      "CatalanReferendum           3244\n",
      "1Oct                        1351\n",
      "Votarem                      954\n",
      "1O                           748\n",
      "referéndum                   640\n",
      "referendumCAT                457\n",
      "ReferendumCatalan            298\n",
      "FreePiolin                   293\n",
      "TotsSomCatalunya             261\n",
      "RepúblicaCatalana            212\n",
      "ProuPuigdemont               187\n",
      "1octL6                       184\n",
      "1Oct2017                     171\n",
      "referendum1deoctubre         146\n",
      "marxem                       102\n",
      "CatalanReferendum2017         72\n",
      "CataluñaEsEspaña              69\n",
      "Ref1oct                       68\n",
      "OrgullososDeSerEspañoles      55\n",
      "JoVoto                        54\n",
      "CatalanRef2017                46\n",
      "EspanaNoSeRompe               29\n",
      "1Oct2017votarem               28\n",
      "CataluñaLibre                 27\n",
      "ref1oct                       22\n",
      "1ONoTincPor                   18\n",
      "DontDUIt                      12\n",
      "CataloniaIsNotSpain           10\n",
      "IndependenciaCataluña          9\n",
      "SpanishDictatorship            9\n",
      "spainispain                    8\n",
      "EspañaUnida                    4\n",
      "CATvotaSí                      3\n",
      "LetCatalansVote                3\n",
      "SpanishRepression              3\n",
      "Freedom4Catalonia              2\n",
      "PorLaUnidadDeEspaña            2\n",
      "dtype: int64\n"
     ]
    }
   ],
   "source": [
    "print(hashtag_counts)"
   ]
  },
  {
   "cell_type": "code",
   "execution_count": 31,
   "metadata": {
    "collapsed": false
   },
   "outputs": [
    {
     "name": "stdout",
     "output_type": "stream",
     "text": [
      "anti\n",
      " \\#CataloniaIsNotSpain (10), \\#CataluñaEsEspaña (69), \\#DontDUIt (12), \\#EspanaNoSeRompe (29), \\#EspañaUnida (4), \\#OrgullososDeSerEspañoles (55), \\#PorLaUnidadDeEspaña (2), \\#ProuPuigdemont (187)\n",
      "neut\n",
      " \\#1O (748), \\#1Oct (1351), \\#1Oct2017 (171), \\#1Oct2017votarem (28), \\#CatalanRef2017 (46), \\#CatalanReferendum (3244), \\#CatalanReferendum2017 (72), \\#JoVoto (54), \\#Ref1oct (68), \\#ReferendumCatalan (298), \\#Votarem (954), \\#ref1oct (22), \\#referendum1deoctubre (146), \\#referendumCAT (457), \\#referéndum (640)\n",
      "pro\n",
      " \\#1ONoTincPor (18), \\#1octL6 (184), \\#CATvotaSí (3), \\#CataluñaLibre (27), \\#FreePiolin (293), \\#Freedom4Catalonia (2), \\#IndependenciaCataluña (9), \\#LetCatalansVote (3), \\#RepúblicaCatalana (212), \\#SpanishDictatorship (9), \\#SpanishRepression (3), \\#TotsSomCatalunya (261), \\#marxem (102), \\#spainispain (8)\n"
     ]
    }
   ],
   "source": [
    "# sort by pro/anti/neutral\n",
    "for sent, group in hashtag_df.groupby('sentiment'):\n",
    "    print(sent)\n",
    "    s_hashtags = set(group.loc[:, 'hashtag']) & set(hashtag_counts.index)\n",
    "    # format\n",
    "    s_hashtag_counts = hashtag_counts.loc[s_hashtags]\n",
    "    s_hashtag_counts = sorted(s_hashtag_counts.to_dict().items(), key=lambda x: x[0])\n",
    "    hashtag_str = ','.join(map(lambda x: ' \\#%s (%s)'%(x[0],x[1]), s_hashtag_counts))\n",
    "#     print(hashtag_counts.loc[s_hashtags])\n",
    "    print(hashtag_str)"
   ]
  },
  {
   "cell_type": "code",
   "execution_count": null,
   "metadata": {
    "collapsed": true
   },
   "outputs": [],
   "source": []
  }
 ],
 "metadata": {
  "kernelspec": {
   "display_name": "Python 2",
   "language": "python",
   "name": "python2"
  },
  "language_info": {
   "codemirror_mode": {
    "name": "ipython",
    "version": 2
   },
   "file_extension": ".py",
   "mimetype": "text/x-python",
   "name": "python",
   "nbconvert_exporter": "python",
   "pygments_lexer": "ipython2",
   "version": "2.7.10"
  }
 },
 "nbformat": 4,
 "nbformat_minor": 0
}
