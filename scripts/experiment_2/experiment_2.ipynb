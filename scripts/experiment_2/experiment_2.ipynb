{
 "cells": [
  {
   "cell_type": "markdown",
   "metadata": {},
   "source": [
    "# Experiment 2\n",
    "In which we attempt to implement Experiment 2 from the original study.\n",
    "\n",
    "$H_{0}$: People are equally likely to use Catalan in non-referendum tweets as in referendum-specific tweets.\n",
    "\n",
    "$H_{1}$: People are more likely to use Catalan in non-referendum tweets as in referendum-specific tweets."
   ]
  },
  {
   "cell_type": "code",
   "execution_count": 4,
   "metadata": {
    "collapsed": true
   },
   "outputs": [],
   "source": [
    "import pandas as pd\n",
    "import matplotlib\n",
    "%matplotlib inline\n",
    "import matplotlib.pyplot as plt"
   ]
  },
  {
   "cell_type": "markdown",
   "metadata": {},
   "source": [
    "## Load data"
   ]
  },
  {
   "cell_type": "code",
   "execution_count": 5,
   "metadata": {
    "collapsed": false
   },
   "outputs": [
    {
     "name": "stdout",
     "output_type": "stream",
     "text": [
      "                   id             user  \\\n",
      "0  850626678380535808     CampsCliment   \n",
      "1  850628981040848896         Dom70Bcn   \n",
      "2  850631111747276800  Estrellas_Siete   \n",
      "3  850632361649860608    pasionxespana   \n",
      "4  850632420365873152        MH17files   \n",
      "\n",
      "                                                text  \\\n",
      "0  RT @_Gafas_y_reloj_: El nulo interés de PP y C...   \n",
      "1  RT @MTudela: ‘Té gràcia estudiar a una univers...   \n",
      "2  Las empresas valencianas pueden solicitar #sub...   \n",
      "3  #españaesuna #stopUE #stopOTAN #stopLGTB #stop...   \n",
      "4  RT @pthefigg: @EliotHiggins @benimmo @DFRLab @...   \n",
      "\n",
      "                                            hashtags  contains_ref_hashtag  \\\n",
      "0                                                NaN                     0   \n",
      "1                                                NaN                     0   \n",
      "2         subvenciones,contratacion,jovenes,Valencia                     0   \n",
      "3  españaesuna,stopUE,stopOTAN,stopLGTB,stopgloba...                     0   \n",
      "4                                        bellingcrap                     0   \n",
      "\n",
      "  lang  lang_conf  retweeted  \n",
      "0   es   1.000000          1  \n",
      "1   ca   1.000000          1  \n",
      "2   es   1.000000          0  \n",
      "3   es   1.000000          0  \n",
      "4   sw   0.428915          1  \n",
      "212476 total tweets\n"
     ]
    }
   ],
   "source": [
    "data = pd.read_csv('../../data/tweets/extra_user_tweets/Jan-01-17_Oct-31-17_user_tweets.tsv', sep='\\t', index_col=False)\n",
    "print(data.head())\n",
    "print('%d total tweets'%(data.shape[0]))\n",
    "data.loc[:, 'hashtags'] = data.loc[:, 'hashtags'].fillna('', inplace=False)"
   ]
  },
  {
   "cell_type": "code",
   "execution_count": 6,
   "metadata": {
    "collapsed": false
   },
   "outputs": [],
   "source": [
    "# compute hashtag counts for later filtering\n",
    "data.loc[:, 'hashtag_count'] = data.loc[:, 'hashtags'].apply(lambda x: 0 if x=='' else len(x.split(',')))"
   ]
  },
  {
   "cell_type": "code",
   "execution_count": 7,
   "metadata": {
    "collapsed": false
   },
   "outputs": [
    {
     "name": "stdout",
     "output_type": "stream",
     "text": [
      "0    208927\n",
      "1      3549\n",
      "Name: contains_ref_hashtag, dtype: int64\n"
     ]
    }
   ],
   "source": [
    "print(data.loc[:, 'contains_ref_hashtag'].value_counts())"
   ]
  },
  {
   "cell_type": "code",
   "execution_count": 8,
   "metadata": {
    "collapsed": false
   },
   "outputs": [
    {
     "name": "stdout",
     "output_type": "stream",
     "text": [
      "81458 original tweets\n",
      "52364 relevant tweets\n"
     ]
    }
   ],
   "source": [
    "# get rid of retweeted stuff\n",
    "data_original = data[data.loc[:, 'retweeted'] == 0]\n",
    "print('%d original tweets'%(data_original.shape[0]))\n",
    "# language cutoff\n",
    "lang_conf_cutoff = 0.90\n",
    "allowed_langs = set(['es', 'ca'])\n",
    "data_original_high_conf = data_original[(data_original.loc[:, 'lang_conf'] >= lang_conf_cutoff) &\n",
    "                                        (data_original.loc[:, 'lang'].isin(allowed_langs))]\n",
    "print('%d relevant tweets'%(data_original_high_conf.shape[0]))"
   ]
  },
  {
   "cell_type": "code",
   "execution_count": 9,
   "metadata": {
    "collapsed": false
   },
   "outputs": [
    {
     "name": "stdout",
     "output_type": "stream",
     "text": [
      "775 relevant users\n",
      "32044 relevant tweets\n"
     ]
    }
   ],
   "source": [
    "# restrict to users who have tweeted at least once with a referendum hashtag (contains_ref_hashtag==1)\n",
    "# and at least once without a referendum hashtag (contains_ref_hashtag==0)\n",
    "relevant_users = data_original_high_conf.groupby('user').apply(lambda x: (x.loc[:, 'contains_ref_hashtag'].max()==1 and \n",
    "                                                                          x.loc[:, 'contains_ref_hashtag'].min()==0))\n",
    "relevant_users = relevant_users[relevant_users].index.tolist()\n",
    "print('%d relevant users'%(len(relevant_users)))\n",
    "data_relevant = data_original_high_conf[data_original_high_conf.loc[:, 'user'].isin(relevant_users)]\n",
    "print('%d relevant tweets'%(data_relevant.shape[0]))"
   ]
  },
  {
   "cell_type": "markdown",
   "metadata": {},
   "source": [
    "Sample size is really small! This will probably affect our power."
   ]
  },
  {
   "cell_type": "markdown",
   "metadata": {},
   "source": [
    "## All controls\n",
    "This test uses as control all tweets without any referendum hashtags."
   ]
  },
  {
   "cell_type": "code",
   "execution_count": 10,
   "metadata": {
    "collapsed": true
   },
   "outputs": [],
   "source": [
    "data_ref = data_relevant[data_relevant.loc[:, 'contains_ref_hashtag'] == 1]\n",
    "data_control = data_relevant[data_relevant.loc[:, 'contains_ref_hashtag'] == 0]"
   ]
  },
  {
   "cell_type": "code",
   "execution_count": 11,
   "metadata": {
    "collapsed": false
   },
   "outputs": [
    {
     "name": "stdout",
     "output_type": "stream",
     "text": [
      "890 referendum tweets\n",
      "31154 non-referendum tweets\n",
      "775 users\n"
     ]
    }
   ],
   "source": [
    "print('%d referendum tweets'%(data_ref.shape[0]))\n",
    "print('%d non-referendum tweets'%(data_control.shape[0]))\n",
    "print('%d users'%(data_relevant.loc[:, 'user'].nunique()))"
   ]
  },
  {
   "cell_type": "code",
   "execution_count": 12,
   "metadata": {
    "collapsed": false
   },
   "outputs": [
    {
     "name": "stdout",
     "output_type": "stream",
     "text": [
      "es    679\n",
      "ca    211\n",
      "Name: lang, dtype: int64\n",
      "es    29347\n",
      "ca     1807\n",
      "Name: lang, dtype: int64\n"
     ]
    }
   ],
   "source": [
    "print(data_ref.loc[:, 'lang'].value_counts())\n",
    "print(data_control.loc[:, 'lang'].value_counts())"
   ]
  },
  {
   "cell_type": "code",
   "execution_count": 13,
   "metadata": {
    "collapsed": false
   },
   "outputs": [
    {
     "name": "stdout",
     "output_type": "stream",
     "text": [
      "user\n",
      "12decima12         0.0\n",
      "19722791es         0.0\n",
      "24clm              0.0\n",
      "3OejCDcfvFi0M1B    0.0\n",
      "4G_RED             0.0\n",
      "dtype: float64\n",
      "user\n",
      "12decima12         0.0\n",
      "19722791es         0.0\n",
      "24clm              0.0\n",
      "3OejCDcfvFi0M1B    0.0\n",
      "4G_RED             0.0\n",
      "dtype: float64\n"
     ]
    }
   ],
   "source": [
    "# compute probability of choosing Catalan in ref and control\n",
    "from __future__ import division\n",
    "lang = 'ca'\n",
    "compute_prob_lang = lambda x: x[x.loc[:, 'lang'] == lang].shape[0] / x.shape[0]\n",
    "cat_prob_ref = data_ref.groupby('user').apply(compute_prob_lang)\n",
    "cat_prob_control = data_control.groupby('user').apply(compute_prob_lang)\n",
    "print(cat_prob_ref.head())\n",
    "print(cat_prob_control.head())"
   ]
  },
  {
   "cell_type": "code",
   "execution_count": 14,
   "metadata": {
    "collapsed": false
   },
   "outputs": [],
   "source": [
    "all_control_d_u = cat_prob_ref - cat_prob_control\n",
    "all_control_d_u_mean = all_control_d_u.mean()"
   ]
  },
  {
   "cell_type": "code",
   "execution_count": 15,
   "metadata": {
    "collapsed": true
   },
   "outputs": [],
   "source": [
    "all_control_d_u_stderr = all_control_d_u.std() / len(all_control_d_u)**.5"
   ]
  },
  {
   "cell_type": "code",
   "execution_count": 16,
   "metadata": {
    "collapsed": false
   },
   "outputs": [
    {
     "name": "stdout",
     "output_type": "stream",
     "text": [
      "d_u for all control tweets is 0.031 +/- 0.011\n"
     ]
    }
   ],
   "source": [
    "print('d_u for all control tweets is %.3f +/- %.3f'%(all_control_d_u_mean, all_control_d_u_stderr))"
   ]
  },
  {
   "cell_type": "code",
   "execution_count": 17,
   "metadata": {
    "collapsed": false
   },
   "outputs": [
    {
     "name": "stdout",
     "output_type": "stream",
     "text": [
      "significance: t=2.839 p=4.640E-03\n"
     ]
    }
   ],
   "source": [
    "from scipy.stats import ttest_1samp\n",
    "d_u_null = 0.\n",
    "t_stat, p_val = ttest_1samp(all_control_d_u, d_u_null)\n",
    "print('significance: t=%.3f p=%.3E'%(t_stat, p_val))"
   ]
  },
  {
   "cell_type": "markdown",
   "metadata": {},
   "source": [
    "**Conclusion 1**:\n",
    "\n",
    "People are more likely to speak Catalan when using a tweet with a referendum hashtag as compared to a tweet without a referendum hashtag."
   ]
  },
  {
   "cell_type": "markdown",
   "metadata": {},
   "source": [
    "## Hashtag control\n",
    "Same test but only allowing tweets that contain at least one hashtag."
   ]
  },
  {
   "cell_type": "code",
   "execution_count": 18,
   "metadata": {
    "collapsed": false
   },
   "outputs": [
    {
     "name": "stdout",
     "output_type": "stream",
     "text": [
      "656 referendum tweets\n",
      "13956 non-referendum tweets\n",
      "550 users\n"
     ]
    }
   ],
   "source": [
    "data_with_hashtags = data_original_high_conf[data_original_high_conf.loc[:, 'hashtag_count'] > 0]\n",
    "# recompute relevant users\n",
    "relevant_users = data_with_hashtags.groupby('user').apply(lambda x: (x.loc[:, 'contains_ref_hashtag'].max()==1 and \n",
    "                                                                     x.loc[:, 'contains_ref_hashtag'].min()==0))\n",
    "relevant_users = relevant_users[relevant_users].index.tolist()\n",
    "# recompute relevant data\n",
    "data_relevant_with_hashtags = data_with_hashtags[data_with_hashtags.loc[:, 'user'].isin(relevant_users)]\n",
    "data_ref = data_relevant_with_hashtags[data_relevant_with_hashtags.loc[:, 'contains_ref_hashtag'] == 1]\n",
    "data_control = data_relevant_with_hashtags[data_relevant_with_hashtags.loc[:, 'contains_ref_hashtag'] == 0]\n",
    "print('%d referendum tweets'%(data_ref.shape[0]))\n",
    "print('%d non-referendum tweets'%(data_control.shape[0]))\n",
    "print('%d users'%(data_relevant_with_hashtags.loc[:, 'user'].nunique()))"
   ]
  },
  {
   "cell_type": "code",
   "execution_count": 19,
   "metadata": {
    "collapsed": false
   },
   "outputs": [
    {
     "name": "stdout",
     "output_type": "stream",
     "text": [
      "d_u for all control hashtag tweets is 0.014 +/- 0.011\n",
      "significance: t=1.230 p=2.192E-01\n"
     ]
    }
   ],
   "source": [
    "cat_prob_ref = data_ref.groupby('user').apply(compute_prob_lang)\n",
    "cat_prob_control = data_control.groupby('user').apply(compute_prob_lang)\n",
    "hashtag_control_d_u = cat_prob_ref - cat_prob_control\n",
    "hashtag_control_d_u_mean = hashtag_control_d_u.mean()\n",
    "hashtag_control_d_u_stderr = hashtag_control_d_u.std() / len(hashtag_control_d_u)**.5\n",
    "print('d_u for all control hashtag tweets is %.3f +/- %.3f'%(hashtag_control_d_u_mean, hashtag_control_d_u_stderr))\n",
    "d_u_null = 0.\n",
    "t_stat, p_val = ttest_1samp(hashtag_control_d_u, d_u_null)\n",
    "print('significance: t=%.3f p=%.3E'%(t_stat, p_val))"
   ]
  },
  {
   "cell_type": "markdown",
   "metadata": {},
   "source": [
    "**Conclusion 2**:\n",
    "\n",
    "People are not more likely to speak Catalan when using a tweet with a referendum hashtag as compared to a tweet with some other hashtag."
   ]
  },
  {
   "cell_type": "markdown",
   "metadata": {
    "collapsed": true
   },
   "source": [
    "## Example referendum/non-referendum tweets\n",
    "To show Catalan versus Spanish usage."
   ]
  },
  {
   "cell_type": "code",
   "execution_count": 20,
   "metadata": {
    "collapsed": false
   },
   "outputs": [],
   "source": [
    "# we want ref_hashtag = 1, lang = ca\n",
    "# and ref_hashtag = 0, lang = es\n",
    "sample_data_ca = data_relevant[(data_relevant.loc[:, 'contains_ref_hashtag'] == 1) & \n",
    "                               (data_relevant.loc[:, 'lang'] == 'ca')]\n",
    "sample_data_es = data_relevant[(data_relevant.loc[:, 'contains_ref_hashtag'] == 0) & \n",
    "                               (data_relevant.loc[:, 'lang'] == 'es')]\n",
    "sample_users = list(set(sample_data_ca.loc[:, 'user'].unique()) & set(sample_data_es.loc[:, 'user'].unique()))"
   ]
  },
  {
   "cell_type": "code",
   "execution_count": 22,
   "metadata": {
    "collapsed": false
   },
   "outputs": [
    {
     "name": "stdout",
     "output_type": "stream",
     "text": [
      "user dmontserratnono CA text:\n",
      " Si l'#1Oct2017 guanya el \"No\" els Manel passaran a dir-se Manuel. Jo votaria \"Sí\". #AlguHoHaviaDeDir\n",
      "Ara només ens falta que en Trump faci treure la web en castellà de la UE. #CatalanRef2017 #alguhohaviadedir\n",
      "El conseller @quimforn i el Major Trapero estan administrant molt bé el tempo que requereix aquesta setmana. Postura intel·ligent #1Oct2017\n",
      "https://t.co/5r3OPySf0h #freepiolin no l'oblidem que la memòria històrica és molt curta\n",
      "user dmontserratnono ES text:\n",
      " .@AliciaSCamacho puso en marcha la 'Operación Cataluña' con ayuda de Moragas | Diario Público https://t.co/KBCIeyew5z\n",
      "user RoigNegre CA text:\n",
      " @SiviLaCanya Així s'estimaran més. Tricorni contra tricorni #freepiolin\n",
      "user RoigNegre ES text:\n",
      " Los fascistas no nos quitarán la alegria.Ni en Barcelona ni en Caracas ni en Damascohttps://m.youtube.com/watch?v=1tP1umpp4M4#NoTincPor\n",
      "@Ritmari @M3DuSsa @LeswinJPerez Los quemados vivos no son verdad ? Los linchamientos? Los ataques a escuelas y hosp… https://t.co/PXORHb3PV1\n",
      "@InfobaeAmerica @JulioBorges Hoy lunes , Maduro presidente y el 30 constituyente. Joderos escuálidos\n",
      "@jacksondaza @hectorEFPP @FreddyGuevaraC Solo alguien con tu cara de hijo de puta se podría llamar bladimir ( con b de burro)\n",
      "Que los venezolanos tengan el 30 un lindo amanecer https://t.co/uJ0uSrZBda\n",
      "@JuanRequesens Por la forma de hablar y moverse requeson está de coca y anfetaminas hasta el culo\n",
      "@PausolinaRolon justicia para las victimas de la guarimba. https://t.co/YS0ids8QG0\n",
      "@HGastronomicus @YouTube Somos más y somos mejores personas. Cuanta dignidad! Viva el pueblo trabajador catalán!♥️\n",
      "@Albiol_XG Lo dice uno de los jefes de una banda organizada de ladrones y corruptos cómo es el @SomosPP ! Increible\n",
      "@SUMAROS Que hubieran estudiado\n",
      "@pablocasado_ Y tambien arden juzgados, muertes y suicidios misteriosos. Vaya banda de mafiosos el PP !\n",
      "2 - recogiendo toda la pijeria y niños bien de la z alta. Es como la plaza altamira de caracas. Son nuestros escuálidos\n",
      "@IVIagazine @BassoAriadna @reipilaf @Moyano_carmen58 @buvali @InesArrimadas Ihrina, te hago la lista de los cambios… https://t.co/pzwtvD0S66\n",
      "@Chania43447203 Pero no peguéis a nadie, ni asaltar escuelas ni emisoras de radio. Ah , tampoco la terraza del Zurich\n",
      "@elpce @societatcivil_ @PacoFrutos1 @PacoFrutos1 se manifiesta con todo el facherio español. Verguenza . 1-O ni olv… https://t.co/7EzBalXJ4M\n",
      "@miqueliceta @socialistes_cat @ahorapodemos que compañeros de viaje tienen algunos https://t.co/mNExrMS1eC\n",
      "@ildevera @guardiacivil @policia Seriais capaces de disparar a civiles. No sería la primera vez, en el s XX lo hicieron con miles\n",
      "@marcelosensei @tocolliure @elmostrador Cataluña es una nación con mil años de historia\n",
      "@salvadorilla @socialistes_cat Vaya el Domingo ireis en mani con @plataforma_cat , entre otros\n",
      "user elireshafenix CA text:\n",
      " Ell ho ha dit #SPain no és la nostra casa #marxem #SpanishDemocracyFails #9NSomTots @franceschoms #Catalunya… https://t.co/x4VqAMsUXn\n",
      "user elireshafenix ES text:\n",
      " @_infoLibre#oletu 😂😂😂autocrítica #PPstyle #SPain #caverna #Rajoy valora dictamen Comisión Venecia como aval TC https://t.co/mYBa4ShW9J @krls\n",
      "@Sanfermin00 @_infoLibre No entiendo pq se manifestan contra proceso en #Catalunya Q decidan catalanes no legión &amp;Co Ya hicieron suficiente\n",
      "@eldiarioes @YeraySIborra @CatalunyaPlural @PPopular quieren qhagan trabajo sucio y ya lo han conseguido,no pudiero… https://t.co/2a3u1Y6i8d\n",
      "user cat_farres CA text:\n",
      " #6fsomtots #republicacatalana que ningu falti anem a per totes,molt aprop, visca Catalunya Lliure,trenquem cadenes. https://t.co/qESsjmNMtn\n",
      "Bon día a tothom,61 dies per el #Referendum democratic del #1oct2017 on el Poble Catala decidirá lliurament el seu futur lluny d'Espanya.✌✌\n",
      "user cat_farres ES text:\n",
      " @bachstandreu Gracias por seguirme, en breve te devuelvo follow :) #TuitUtil https://t.co/4uJszomz2E\n",
      "@Iaki651 Gracias por seguirme, en breve te devuelvo follow :) #TuitUtil https://t.co/4uJszomz2E\n",
      "Nuevos seguidores: 9, unfollowers: 1 (13:21) #TuitUtil https://t.co/4uJszomz2E\n",
      "@divapiti Gracias por seguirme, en breve te devuelvo follow :) #TuitUtil https://t.co/4uJszomz2E\n",
      "Ahora en cualquier huelga ya ha cambiado el apelativo de esquiroles ahora seran los beneméritoles.😂😂\n",
      "@XaviLourido Gracias por seguirme, en breve te devuelvo follow :) #TuitUtil https://t.co/4uJszomz2E\n",
      "Que los de la falsa Transición PPPSOE arropados por los pseudofranquistas de C's, se escuden detrás de la Democracia es de risa😂😂😂😂😂\n",
      "@OctavioTraver Gracias por seguirme, en breve te devuelvo follow :) #TuitUtil https://t.co/4uJszomz2E\n",
      "Nuevos seguidores: 1, unfollowers: 1 (10:35) #TuitUtil https://t.co/4uJszomz2E\n",
      "Nuevos seguidores: 5, unfollowers: 0 (06:56) #TuitUtil https://t.co/4uJszomz2E\n",
      "@1946acuario16 Gracias por seguirme, en breve te devuelvo follow :) #TuitUtil https://t.co/4uJszomz2E\n",
      "@PuigvertJosep Gracias por seguirme, en breve te devuelvo follow :) #TuitUtil https://t.co/4uJszomz2E\n",
      "@josepmuixi Gracias por seguirme, en breve te devuelvo follow :) #TuitUtil https://t.co/4uJszomz2E\n",
      "@foxlider1 Gracias por seguirme, en breve te devuelvo follow :) #TuitUtil https://t.co/4uJszomz2E\n",
      "Nuevos seguidores: 2, unfollowers: 0 (05:25) #TuitUtil https://t.co/4uJszomz2E\n",
      "@Johancat5 Gracias por seguirme, en breve te devuelvo follow :) #TuitUtil https://t.co/4uJszomz2E\n",
      "@pereramon1950 Gracias por seguirme, en breve te devuelvo follow :) #TuitUtil https://t.co/4uJszomz2E\n",
      "@jordindi Gracias por seguirme, en breve te devuelvo follow :) #TuitUtil https://t.co/4uJszomz2E\n",
      "Espanya Demo que? Transicio full. Marxem🏃🏃🏃🏃🏃🏃\n",
      "Nuevos seguidores: 1, unfollowers: 1 (09:38) #TuitUtil https://t.co/4uJszomz2E\n",
      "@platdescudella Gracias por seguirme, en breve te devuelvo follow :) #TuitUtil https://t.co/4uJszomz2E\n",
      "Atendras a la Prensa amb el plasma. Declararas en el judici de Gurtel amb el plasma LA INDEPENDENCIA DE CATALUNYA… https://t.co/57ufqCAIin\n",
      "Nuevos seguidores: 4, unfollowers: 0 (06:00) #TuitUtil https://t.co/4uJszomz2E\n",
      "Lo peor de no tener ideales, ni idealismo , es cambiarlo por seguidismo y transfuguismo, los maestros del escapismo… https://t.co/A7ua0GjHiM\n",
      "nuevos emoticonos...............😋😜😝 https://t.co/lWR3jnTkUw\n",
      "@abrahampulido77 Gracias por seguirme, en breve te devuelvo follow :) #TuitUtil https://t.co/4uJszomz2E\n",
      "Nuevos seguidores: 2, unfollowers: 0 (06:14) #TuitUtil https://t.co/4uJszomz2E\n",
      "El PSOE Partido Sometido Oligarquía Espanyola 👏👏👏\n",
      "La primera vez que el PP aplicó el 155 fue a la Judicatura Española en cuanto ganaron las elecciones generales. Ya tienen experiencia.😎😎\n",
      "@scanousoc Gracias por seguirme, en breve te devuelvo follow :) #TuitUtil https://t.co/4uJszomz2E\n",
      "@Hawks183 Gracias por seguirme, en breve te devuelvo follow :) #TuitUtil https://t.co/4uJszomz2E\n",
      "Nuevos seguidores: 3, unfollowers: 1 (13:41) #TuitUtil https://t.co/4uJszomz2E\n",
      "Nuevos seguidores: 6, unfollowers: 1 (13:33) #TuitUtil https://t.co/4uJszomz2E\n",
      "user vinasxifra CA text:\n",
      " Moment històric i somiat durant molts anys #RepublicaCatalana ara entre tots a defensar-la!! @alexsolventa https://t.co/cL0XJz6Hsm\n",
      "user vinasxifra ES text:\n",
      " Quina colla d'impresentables, viva el rey, viva el orden y la ley https://t.co/R3H2n953JL\n",
      "user JaTardem CA text:\n",
      " Ens volen colar un Sant Jordi ataronjat i d'autoodi mentre els enamorats i famílies trien llibres i roses pel carrers. #fàstic #marxem\n",
      "Menys #RevetlladeSantJoan i més treballar pel país!!!! #1Oct\n",
      "user JaTardem ES text:\n",
      " @GMDemocrataBCN @G_Pisarello Exactament, quina era la pregunta?\n",
      "Adiós Espe, quienes van a independizarse te saludan. #Referendum\n",
      "Hay q tener poca verguenza para hablar de unidad de fuerzas del Estado. Europol- @mossos recuerdas??? #Cambrils https://t.co/J1W2N3JJI5\n",
      "Garrulos respondiendo a los tuits de los mossos en tu zona. #NoTenimPor\n",
      "@Guera1X @FraJeremies Doncs estem dient el mateix, no?\n",
      "user nuriamartinez4 CA text:\n",
      " Quin dia més maco per seguir fent història, no? #marxem\n",
      "user nuriamartinez4 ES text:\n",
      " ¿Mucho más de dos millones de personas no son contenido @GLlamazares ? #meprecipitodelavida #hemmarxat… https://t.co/BoCkrqf6RH\n",
      "user AlbertLluc CA text:\n",
      " Prou rucades! Anem per feina i no ens desviem del camí. El primer la independència, després el que calgui! El meu parti; #republicacatalana\n",
      "user AlbertLluc ES text:\n",
      " Rendios! Salir de uno en uno con er carné en la boca! El mateix avui que ahir. Hem fet caure la máscara pseudodemocrática de l'Espanya 78.\n",
      "Que medidas @patxilopez propones para Catalunya? El GAL, los tanques, los campos de concentración? Preocupa't del teu, prou feina tindràs!\n",
      "@dame_finance @IracundoIsidoro Lo que no es democrático es impedir que una nación, anexionada a la fuerza, pueda re… https://t.co/H3VzhA3rHH\n",
      "@mparevalo @ierrejon De que justícia hablas? De la que pueda impartir un JUEZ como este? https://t.co/csLuVA7hut\n",
      "user BlazquezJordi CA text:\n",
      " #FreePiolin La empresa Moby lines s'ha avingut a llogar aquest vaixell, ni un viatge amb ells. Boicot!!!!\n",
      "user BlazquezJordi ES text:\n",
      " @elconfidencial 600.000 € Gasta al día el gobierno en Cataluña para controlar no se que...\n",
      "@elespanolcom Hostia Pedro j . Que favor les estas haciendo al gobierno...haber si cae una buena subvención.No? Te jodieron bien, no?\n",
      "user PetitPelleringa CA text:\n",
      " Racons del #Congrés . #bicycle #city #Barcelona #cataloniaisnotspain #catalunya @ El Congrés i… https://t.co/UHAHXbDnBE\n",
      "user PetitPelleringa ES text:\n",
      " Al becario le ha tocado pasarse muchas horas con el photoshop. https://t.co/YjjBCM6jqr\n",
      "@PatGuerreroGo A mi me pasó esto y acabé dejándole una pajita en la mesa. Lo pilló.\n",
      "@DolorsBoatella Él encantado de la vida. Dará de pleno con la cara al sol.\n"
     ]
    }
   ],
   "source": [
    "pd.np.random.seed(123)\n",
    "sample_size = 10\n",
    "test_users = pd.np.random.choice(sample_users, size=sample_size, replace=False)\n",
    "for u in test_users:\n",
    "    u_ca_data = sample_data_ca[sample_data_ca.loc[:, 'user'] == u]\n",
    "    u_es_data = sample_data_es[sample_data_es.loc[:, 'user'] == u]\n",
    "#     if(u_ca_data.shape[0] > 0 and u_es_data.shape[0] > 0):\n",
    "    print('user %s CA text:\\n %s'%(u, '\\n'.join(u_ca_data.loc[:, 'text'].values)))\n",
    "    print('user %s ES text:\\n %s'%(u, '\\n'.join(u_es_data.loc[:, 'text'].values)))"
   ]
  },
  {
   "cell_type": "code",
   "execution_count": null,
   "metadata": {
    "collapsed": true
   },
   "outputs": [],
   "source": []
  },
  {
   "cell_type": "code",
   "execution_count": null,
   "metadata": {
    "collapsed": true
   },
   "outputs": [],
   "source": []
  }
 ],
 "metadata": {
  "kernelspec": {
   "display_name": "Python 2",
   "language": "python",
   "name": "python2"
  },
  "language_info": {
   "codemirror_mode": {
    "name": "ipython",
    "version": 2
   },
   "file_extension": ".py",
   "mimetype": "text/x-python",
   "name": "python",
   "nbconvert_exporter": "python",
   "pygments_lexer": "ipython2",
   "version": "2.7.10"
  }
 },
 "nbformat": 4,
 "nbformat_minor": 0
}
